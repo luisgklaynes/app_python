{
 "cells": [
  {
   "cell_type": "code",
   "execution_count": null,
   "metadata": {},
   "outputs": [],
   "source": [
    "def leitura(arquivo_excel):\n",
    "    arquivo_excel = 'contatosMay.xlsx'\n",
    "    df = pd.read_excel(arquivo_excel)\n",
    "    df.to_excel(arquivo_excel, index=False)\n",
    "    df =pd.DataFrame\n",
    "    return df \n",
    "    display(df)"
   ]
  },
  {
   "cell_type": "code",
   "execution_count": 10,
   "metadata": {},
   "outputs": [
    {
     "data": {
      "text/html": [
       "<div>\n",
       "<style scoped>\n",
       "    .dataframe tbody tr th:only-of-type {\n",
       "        vertical-align: middle;\n",
       "    }\n",
       "\n",
       "    .dataframe tbody tr th {\n",
       "        vertical-align: top;\n",
       "    }\n",
       "\n",
       "    .dataframe thead th {\n",
       "        text-align: right;\n",
       "    }\n",
       "</style>\n",
       "<table border=\"1\" class=\"dataframe\">\n",
       "  <thead>\n",
       "    <tr style=\"text-align: right;\">\n",
       "      <th></th>\n",
       "      <th>Nome</th>\n",
       "      <th>Telefone</th>\n",
       "      <th>Mensagem</th>\n",
       "      <th>Mensagem2</th>\n",
       "    </tr>\n",
       "  </thead>\n",
       "  <tbody>\n",
       "    <tr>\n",
       "      <th>0</th>\n",
       "      <td>Luis Laynes</td>\n",
       "      <td>5541984988524</td>\n",
       "      <td>NaN</td>\n",
       "      <td>zap</td>\n",
       "    </tr>\n",
       "    <tr>\n",
       "      <th>1</th>\n",
       "      <td>Mayara Laynes</td>\n",
       "      <td>5541999800925</td>\n",
       "      <td>teste</td>\n",
       "      <td>zap</td>\n",
       "    </tr>\n",
       "    <tr>\n",
       "      <th>2</th>\n",
       "      <td>Cristian</td>\n",
       "      <td>5543996777718</td>\n",
       "      <td>teste</td>\n",
       "      <td>zap</td>\n",
       "    </tr>\n",
       "  </tbody>\n",
       "</table>\n",
       "</div>"
      ],
      "text/plain": [
       "            Nome       Telefone Mensagem Mensagem2\n",
       "0    Luis Laynes  5541984988524      NaN       zap\n",
       "1  Mayara Laynes  5541999800925    teste       zap\n",
       "2       Cristian  5543996777718    teste       zap"
      ]
     },
     "metadata": {},
     "output_type": "display_data"
    },
    {
     "ename": "",
     "evalue": "",
     "output_type": "error",
     "traceback": [
      "\u001b[1;31mThe Kernel crashed while executing code in the current cell or a previous cell. \n",
      "\u001b[1;31mPlease review the code in the cell(s) to identify a possible cause of the failure. \n",
      "\u001b[1;31mClick <a href='https://aka.ms/vscodeJupyterKernelCrash'>here</a> for more info. \n",
      "\u001b[1;31mView Jupyter <a href='command:jupyter.viewOutput'>log</a> for further details."
     ]
    }
   ],
   "source": [
    "import pandas as pd\n",
    "\n",
    "# arquivo_excel = 'contatosMay.xlsx'\n",
    "# df = pd.read_excel(arquivo_excel)  \n",
    "\n",
    "def leitura(arquivo_excel):\n",
    "    arquivo_excel = 'contatosMay.xlsx'\n",
    "    df = pd.read_excel(arquivo_excel) \n",
    "    display(df)\n",
    "    \n",
    "# def salvar_dados(nome, telefone):\n",
    "#     # Nome do arquivo Excel\n",
    "#     arquivo_excel = 'contatosMay.xlsx'\n",
    "#     df = pd.read_excel(arquivo_excel) \n",
    "#     display(df)\n",
    "    \n",
    "leitura('contatosMay.xlsx')"
   ]
  }
 ],
 "metadata": {
  "kernelspec": {
   "display_name": "Python 3",
   "language": "python",
   "name": "python3"
  },
  "language_info": {
   "name": "python",
   "version": "3.12.0"
  }
 },
 "nbformat": 4,
 "nbformat_minor": 2
}
