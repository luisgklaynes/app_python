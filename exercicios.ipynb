{
 "cells": [
  {
   "cell_type": "code",
   "execution_count": 7,
   "metadata": {},
   "outputs": [
    {
     "name": "stdout",
     "output_type": "stream",
     "text": [
      "0\n",
      "1\n",
      "1\n",
      "3\n",
      "3\n",
      "6\n",
      "6\n",
      "10\n",
      "10\n",
      "15\n",
      "15\n",
      "21\n",
      "21\n",
      "28\n",
      "28\n",
      "36\n",
      "36\n",
      "45\n",
      "45\n",
      "55\n"
     ]
    }
   ],
   "source": [
    "N = [1,2,3,4,5,6,7,8,9,10]\n",
    "list = 0\n",
    "\n",
    "for num in N:\n",
    "\n",
    "    list = list + num\n",
    "    print(list)\n",
    "    \n",
    "    "
   ]
  }
 ],
 "metadata": {
  "kernelspec": {
   "display_name": "Python 3",
   "language": "python",
   "name": "python3"
  },
  "language_info": {
   "codemirror_mode": {
    "name": "ipython",
    "version": 3
   },
   "file_extension": ".py",
   "mimetype": "text/x-python",
   "name": "python",
   "nbconvert_exporter": "python",
   "pygments_lexer": "ipython3",
   "version": "3.12.0"
  }
 },
 "nbformat": 4,
 "nbformat_minor": 2
}
