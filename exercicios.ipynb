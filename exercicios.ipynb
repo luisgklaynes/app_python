{
 "cells": [
  {
   "cell_type": "code",
<<<<<<< HEAD
   "execution_count": 7,
=======
   "execution_count": 61,
>>>>>>> 82eafaf34f04cdfb8b40ceee5a920915bf9a59ea
   "metadata": {},
   "outputs": [
    {
     "name": "stdout",
     "output_type": "stream",
     "text": [
<<<<<<< HEAD
      "0\n",
      "1\n",
      "1\n",
      "3\n",
      "3\n",
      "6\n",
      "6\n",
      "10\n",
      "10\n",
      "15\n",
      "15\n",
      "21\n",
      "21\n",
      "28\n",
      "28\n",
      "36\n",
      "36\n",
      "45\n",
      "45\n",
      "55\n"
=======
      "[{'Produto': 'monitor', 'Valor': 500.0}]\n"
>>>>>>> 82eafaf34f04cdfb8b40ceee5a920915bf9a59ea
     ]
    }
   ],
   "source": [
<<<<<<< HEAD
    "N = [1,2,3,4,5,6,7,8,9,10]\n",
    "list = 0\n",
    "\n",
    "for num in N:\n",
    "\n",
    "    list = list + num\n",
    "    print(list)\n",
    "    \n",
    "    "
=======
    "# simula inputs feito por usuários na interface\n",
    "\n",
    "nome = str(input(\"Informe o produto\"))\n",
    "valor = float(input(\"Valor\"))\n",
    "produtos = []\n",
    "\n",
    "# regras para execução\n",
    "arquivo = 'shopping_list.txt'\n",
    "\n",
    "\n",
    "\n",
    "# ações e execução do programa\n",
    "cadastra_produto(nome,valor)\n",
    "#salva_cadastro(arquivo,nome,valor)"
   ]
  },
  {
   "cell_type": "code",
   "execution_count": 49,
   "metadata": {},
   "outputs": [],
   "source": [
    "# monta a lista inserida pelo usuário para ser salva\n",
    "# recebe o as colunas \n",
    "def cadastra_produto(nome,valor):\n",
    "    try:\n",
    "        item = {'Produto': nome, 'Valor': valor}\n",
    "        #produtos.append(item)\n",
    "    except ValueError:\n",
    "        print(\"Por favor, insira um valor numérico válido para o preço.\")\n",
    "\n",
    "# Adiciona um novo produto na lista\n",
    "# recebe o nome do arquivo, e variaveis de colunas\n",
    "# def salva_cadastro(arquivo,nome,valor):\n",
    "#     with open(arquivo,'a') as arqprodutos:\n",
    "#         arqprodutos.write(f\"{nome},{valor}\\n\")\n",
    "\n"
   ]
  },
  {
   "cell_type": "code",
   "execution_count": 62,
   "metadata": {},
   "outputs": [
    {
     "name": "stdout",
     "output_type": "stream",
     "text": [
      "teste,55.0\n",
      "\n",
      "Macarrao,6.0\n",
      "\n",
      "teste,1.0\n",
      "\n",
      "mouse,199.0\n",
      "\n",
      "teste,1.0\n",
      "\n",
      "teste,9999.0\n",
      "\n",
      "novo,23.0\n",
      "\n",
      "teclado,150.0\n",
      "\n"
     ]
    }
   ],
   "source": [
    "with open('shopping_list.txt','r') as arqprodutos:\n",
    "       for linha in arqprodutos:\n",
    "              print(linha)\n"
>>>>>>> 82eafaf34f04cdfb8b40ceee5a920915bf9a59ea
   ]
  }
 ],
 "metadata": {
  "kernelspec": {
   "display_name": "Python 3",
   "language": "python",
   "name": "python3"
  },
  "language_info": {
   "codemirror_mode": {
    "name": "ipython",
    "version": 3
   },
   "file_extension": ".py",
   "mimetype": "text/x-python",
   "name": "python",
   "nbconvert_exporter": "python",
   "pygments_lexer": "ipython3",
<<<<<<< HEAD
   "version": "3.12.0"
=======
   "version": "3.12.4"
>>>>>>> 82eafaf34f04cdfb8b40ceee5a920915bf9a59ea
  }
 },
 "nbformat": 4,
 "nbformat_minor": 2
}
