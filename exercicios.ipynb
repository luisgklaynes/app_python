{
 "cells": [
  {
   "cell_type": "code",
   "execution_count": 61,
   "metadata": {},
   "outputs": [
    {
     "name": "stdout",
     "output_type": "stream",
     "text": [
      "[{'Produto': 'monitor', 'Valor': 500.0}]\n"
     ]
    }
   ],
   "source": [
    "# simula inputs feito por usuários na interface\n",
    "\n",
    "nome = str(input(\"Informe o produto\"))\n",
    "valor = float(input(\"Valor\"))\n",
    "produtos = []\n",
    "\n",
    "# regras para execução\n",
    "arquivo = 'shopping_list.txt'\n",
    "\n",
    "\n",
    "\n",
    "# ações e execução do programa\n",
    "cadastra_produto(nome,valor)\n",
    "#salva_cadastro(arquivo,nome,valor)"
   ]
  },
  {
   "cell_type": "code",
   "execution_count": 49,
   "metadata": {},
   "outputs": [],
   "source": [
    "# monta a lista inserida pelo usuário para ser salva\n",
    "# recebe o as colunas \n",
    "def cadastra_produto(nome,valor):\n",
    "    try:\n",
    "        item = {'Produto': nome, 'Valor': valor}\n",
    "        #produtos.append(item)\n",
    "    except ValueError:\n",
    "        print(\"Por favor, insira um valor numérico válido para o preço.\")\n",
    "\n",
    "# Adiciona um novo produto na lista\n",
    "# recebe o nome do arquivo, e variaveis de colunas\n",
    "# def salva_cadastro(arquivo,nome,valor):\n",
    "#     with open(arquivo,'a') as arqprodutos:\n",
    "#         arqprodutos.write(f\"{nome},{valor}\\n\")\n",
    "\n"
   ]
  },
  {
   "cell_type": "code",
   "execution_count": 62,
   "metadata": {},
   "outputs": [
    {
     "name": "stdout",
     "output_type": "stream",
     "text": [
      "teste,55.0\n",
      "\n",
      "Macarrao,6.0\n",
      "\n",
      "teste,1.0\n",
      "\n",
      "mouse,199.0\n",
      "\n",
      "teste,1.0\n",
      "\n",
      "teste,9999.0\n",
      "\n",
      "novo,23.0\n",
      "\n",
      "teclado,150.0\n",
      "\n"
     ]
    }
   ],
   "source": [
    "with open('shopping_list.txt','r') as arqprodutos:\n",
    "       for linha in arqprodutos:\n",
    "              print(linha)\n"
   ]
  }
 ],
 "metadata": {
  "kernelspec": {
   "display_name": "Python 3",
   "language": "python",
   "name": "python3"
  },
  "language_info": {
   "codemirror_mode": {
    "name": "ipython",
    "version": 3
   },
   "file_extension": ".py",
   "mimetype": "text/x-python",
   "name": "python",
   "nbconvert_exporter": "python",
   "pygments_lexer": "ipython3",
   "version": "3.12.4"
  }
 },
 "nbformat": 4,
 "nbformat_minor": 2
}
