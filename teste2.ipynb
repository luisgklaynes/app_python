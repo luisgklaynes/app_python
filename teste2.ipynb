{
 "cells": [
  {
   "cell_type": "code",
   "execution_count": 24,
   "metadata": {},
   "outputs": [],
   "source": [
    "import flet as ft\n",
    "import pandas as pd\n",
    "\n",
    "#Função para ler o arquivo Excel\n",
    "def read_excel_sheet(file_path):\n",
    "    try:\n",
    "        df = pd.read_excel(file_path)\n",
    "        return df\n",
    "    except Exception as e:\n",
    "        print(\"Erro ao ler o arquivo Excel:\", e)\n",
    "        return None\n",
    "    \n",
    "#Atualização das colunas [mensagem] e [mensagem2]\n",
    "def update_dataframe(df,mensagem, mensagem2):\n",
    "    df['Mensagem'] = mensagem\n",
    "    df['Mensagem2'] = mensagem2\n",
    "    return df\n",
    "\n",
    "#Salva as atualizações no arquivo excel\n",
    "def save_to_excel(df, file_path, sheet_name):\n",
    "    try:\n",
    "        with pd.ExcelWriter(file_path, mode='w') as writer:\n",
    "            df.to_excel(writer, sheet_name=sheet_name, index=False)\n",
    "        print(\"Dados salvos com sucesso!\")\n",
    "    except Exception as e:\n",
    "        print(\"Erro ao salvar o arquivo Excel:\", e)\n"
   ]
  },
  {
   "cell_type": "code",
   "execution_count": 29,
   "metadata": {},
   "outputs": [],
   "source": [
    "#Cria interface \n",
    "def main(page: ft.Page):\n",
    "    page.title = \"Editor de Mensagens\"\n",
    "    \n",
    "#Parametros usados pela aplicação\n",
    "    file_path = 'contatosMay.xlsx'\n",
    "    sheet_name = 'Planilha1'\n",
    "    mensagem = 'Boa tarde'\n",
    "    mensagem2 = 'Chegou a sua vez, aproveite!'\n",
    "\n",
    "    df = read_excel_sheet(file_path) # print(df)\n",
    "    update_dataframe(df,mensagem, mensagem2) \n",
    "    save_to_excel(df, file_path, sheet_name)\n",
    "\n",
    "    # Iniciar a aplicação Flet\n",
    "    ft.app(target=main)"
   ]
  }
 ],
 "metadata": {
  "kernelspec": {
   "display_name": "Python 3",
   "language": "python",
   "name": "python3"
  },
  "language_info": {
   "codemirror_mode": {
    "name": "ipython",
    "version": 3
   },
   "file_extension": ".py",
   "mimetype": "text/x-python",
   "name": "python",
   "nbconvert_exporter": "python",
   "pygments_lexer": "ipython3",
   "version": "3.12.0"
  }
 },
 "nbformat": 4,
 "nbformat_minor": 2
}
